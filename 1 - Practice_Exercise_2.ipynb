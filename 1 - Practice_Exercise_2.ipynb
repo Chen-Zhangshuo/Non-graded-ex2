{
 "cells": [
  {
   "cell_type": "markdown",
   "metadata": {},
   "source": [
    "1. Ask user to enter a string and check that it is made up only alphabets:"
   ]
  },
  {
   "cell_type": "code",
   "execution_count": null,
   "metadata": {},
   "outputs": [],
   "source": [
    "# Ask the user to enter a string\n",
    "user_input = input(\"Please enter a string: \")\n",
    "\n",
    "# Check if the string contains only alphabets\n",
    "if user_input.isalpha():\n",
    "    print(\"The string is made up only of alphabets.\")\n",
    "else:\n",
    "    print(\"The string contains non-alphabetic characters.\")"
   ]
  },
  {
   "cell_type": "markdown",
   "metadata": {},
   "source": [
    "2. Now, make sure that the string is made up of both alphabets and numbers:\n",
    "\n",
    "TRY using isalnum() function and then entering only alhpabets in the string and see what happens."
   ]
  },
  {
   "cell_type": "code",
   "execution_count": null,
   "metadata": {},
   "outputs": [],
   "source": [
    "# Ask the user to enter a string\n",
    "user_input = input(\"Please enter a string: \")\n",
    "\n",
    "# Check if the string is alphanumeric\n",
    "if user_input.isalnum():\n",
    "    # Check if the string contains both alphabets and numbers\n",
    "    has_alpha = any(c.isalpha() for c in user_input)\n",
    "    has_digit = any(c.isdigit() for c in user_input)\n",
    "    \n",
    "    if has_alpha and has_digit:\n",
    "        print(\"The string contains both alphabets and numbers.\")\n",
    "    else:\n",
    "        print(\"The string is alphanumeric but does not contain both alphabets and numbers.\")\n",
    "else:\n",
    "    print(\"The string contains non-alphanumeric characters.\")"
   ]
  },
  {
   "cell_type": "markdown",
   "metadata": {},
   "source": [
    "3. Now, make sure that the string is made up of both alphabets and at least one number:\n"
   ]
  },
  {
   "cell_type": "code",
   "execution_count": null,
   "metadata": {},
   "outputs": [],
   "source": [
    "# Ask the user to enter a string\n",
    "user_input = input(\"Please enter a string: \")\n",
    "\n",
    "# Check if the string is alphanumeric\n",
    "if user_input.isalnum():\n",
    "    # Check if the string contains both alphabets and numbers\n",
    "    has_alpha = any(c.isalpha() for c in user_input)\n",
    "    has_digit = any(c.isdigit() for c in user_input)\n",
    "    \n",
    "    if has_alpha and has_digit:\n",
    "        print(\"The string contains both alphabets and numbers.\")\n",
    "    else:\n",
    "        print(\"The string is alphanumeric but does not contain both alphabets and numbers.\")\n",
    "else:\n",
    "    print(\"The string contains non-alphanumeric characters.\")"
   ]
  },
  {
   "cell_type": "markdown",
   "metadata": {},
   "source": [
    "4. Now, make sure that the string is made up of both alphabets, at least one number, and at least one special character:"
   ]
  },
  {
   "cell_type": "code",
   "execution_count": 2,
   "metadata": {},
   "outputs": [
    {
     "name": "stdout",
     "output_type": "stream",
     "text": [
      "The string does not meet the criteria of containing both alphabets, at least one number, and at least one special character.\n"
     ]
    }
   ],
   "source": [
    "import string\n",
    "\n",
    "# Ask the user to enter a string\n",
    "user_input = input(\"Please enter a string: \")\n",
    "\n",
    "# Define a set of special characters\n",
    "special_characters = set(string.punctuation)\n",
    "\n",
    "# Check if the string contains at least one alphabetic character, one numeric character, and one special character\n",
    "has_alpha = any(c.isalpha() for c in user_input)\n",
    "has_digit = any(c.isdigit() for c in user_input)\n",
    "has_special = any(c in special_characters for c in user_input)\n",
    "\n",
    "# Check if the string is alphanumeric and contains special characters\n",
    "if has_alpha and has_digit and has_special:\n",
    "    print(\"The string contains both alphabets, at least one number, and at least one special character.\")\n",
    "else:\n",
    "    print(\"The string does not meet the criteria of containing both alphabets, at least one number, and at least one special character.\")\n"
   ]
  },
  {
   "cell_type": "markdown",
   "metadata": {},
   "source": [
    "5. Now, modify the above code so that if the user enters an invalid string, the program should ask the user to enter another string again, and keep asking until a valid string has been entered."
   ]
  },
  {
   "cell_type": "code",
   "execution_count": 1,
   "metadata": {},
   "outputs": [
    {
     "name": "stdout",
     "output_type": "stream",
     "text": [
      "The string does not meet the criteria. Please try again.\n",
      "The string does not meet the criteria. Please try again.\n",
      "The string contains both alphabets, at least one number, and at least one special character.\n"
     ]
    }
   ],
   "source": [
    "import string\n",
    "\n",
    "def is_valid_string(user_input):\n",
    "    # Define a set of special characters\n",
    "    special_characters = set(string.punctuation)\n",
    "    \n",
    "    # Check if the string contains at least one alphabetic character, one numeric character, and one special character\n",
    "    has_alpha = any(c.isalpha() for c in user_input)\n",
    "    has_digit = any(c.isdigit() for c in user_input)\n",
    "    has_special = any(c in special_characters for c in user_input)\n",
    "    \n",
    "    return has_alpha and has_digit and has_special\n",
    "\n",
    "while True:\n",
    "    # Ask the user to enter a string\n",
    "    user_input = input(\"Please enter a string: \")\n",
    "    \n",
    "    # Check if the string meets the criteria\n",
    "    if is_valid_string(user_input):\n",
    "        print(\"The string contains both alphabets, at least one number, and at least one special character.\")\n",
    "        break  # Exit the loop if the string is valid\n",
    "    else:\n",
    "        print(\"The string does not meet the criteria. Please try again.\")"
   ]
  }
 ],
 "metadata": {
  "kernelspec": {
   "display_name": "Python 3",
   "language": "python",
   "name": "python3"
  },
  "language_info": {
   "codemirror_mode": {
    "name": "ipython",
    "version": 3
   },
   "file_extension": ".py",
   "mimetype": "text/x-python",
   "name": "python",
   "nbconvert_exporter": "python",
   "pygments_lexer": "ipython3",
   "version": "3.11.9"
  }
 },
 "nbformat": 4,
 "nbformat_minor": 2
}
